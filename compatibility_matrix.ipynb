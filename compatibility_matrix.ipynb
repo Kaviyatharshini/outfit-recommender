{
 "cells": [
  {
   "cell_type": "code",
   "execution_count": 50,
   "metadata": {},
   "outputs": [],
   "source": [
    "import matplotlib.pyplot as plt\n",
    "import webcolors\n",
    "from keras.models import model_from_json\n",
    "from PIL import Image\n",
    "import pandas as pd\n",
    "%matplotlib inline\n",
    "import os\n",
    "import csv"
   ]
  },
  {
   "cell_type": "code",
   "execution_count": 51,
   "metadata": {},
   "outputs": [],
   "source": [
    "labels={0:'OTHER', 1:'animal', 2:'cartoon', 3:'chevron', 4:'floral',5:'geometry', 6:'houndstooth',7:'ikat',8:'letter_numb',9:'plain',10:'polka dot',11:'scales',12:'skull', 13:'squares', 14:'stars',15:'stripes',16:'tribal'}"
   ]
  },
  {
   "cell_type": "code",
   "execution_count": 52,
   "metadata": {},
   "outputs": [],
   "source": [
    "cwd = os.getcwd()\n",
    "dataset = cwd + '/FashionVCdata'\n",
    "top_color_path = cwd + '/top_rgb.csv'\n",
    "bottom_color_path = cwd + '/bottom_rgb.csv'\n",
    "top_pattern_path = cwd + '/top_pattern.csv'\n",
    "bottom_pattern_path = cwd + '/bottom_pattern.csv'\n",
    "pairs_path = dataset+'/gnd_top_bottom_pairs.csv'\n",
    "top_color={}\n",
    "bottom_color ={}\n",
    "top_pattern={}\n",
    "bottom_pattern={}"
   ]
  },
  {
   "cell_type": "code",
   "execution_count": 53,
   "metadata": {},
   "outputs": [],
   "source": [
    "with open(top_color_path) as f:\n",
    "    reader = csv.reader(f)\n",
    "    for row in reader:\n",
    "        top_color[row[0]]=row[1]\n",
    "with open(bottom_color_path) as f:\n",
    "    reader = csv.reader(f)\n",
    "    for row in reader:\n",
    "        bottom_color[row[0]]=row[1]\n",
    "with open(bottom_pattern_path) as f:\n",
    "    reader=csv.reader(f)\n",
    "    for row in reader:\n",
    "        bottom_pattern[row[0]]=row[1]\n",
    "with open(top_pattern_path) as f:\n",
    "    reader = csv.reader(f)\n",
    "    for row in reader:\n",
    "        top_pattern[row[0]] = row[1]"
   ]
  },
  {
   "cell_type": "code",
   "execution_count": 54,
   "metadata": {},
   "outputs": [],
   "source": [
    "colors={}\n",
    "for i in top_color.values():\n",
    "    colors[i]=1\n",
    "for i in bottom_color.values():\n",
    "    colors[i]=1"
   ]
  },
  {
   "cell_type": "code",
   "execution_count": 55,
   "metadata": {},
   "outputs": [
    {
     "name": "stdout",
     "output_type": "stream",
     "text": [
      "112\n"
     ]
    }
   ],
   "source": [
    "colors_list = colors.keys()\n",
    "\n",
    "print(len(colors))\n",
    "patterns =labels.values()\n",
    "compatibility_matrix = pd.DataFrame(0,index=pd.MultiIndex.from_product([colors, patterns], names=['Top Color', 'Top Pattern']),\n",
    "                                    columns=pd.MultiIndex.from_product([colors, patterns], names=['Bottom Color', 'Bottom Pattern']))"
   ]
  },
  {
   "cell_type": "code",
   "execution_count": 56,
   "metadata": {},
   "outputs": [
    {
     "name": "stdout",
     "output_type": "stream",
     "text": [
      "Bottom Color           black                                         \\\n",
      "Bottom Pattern         OTHER animal cartoon chevron floral geometry   \n",
      "Top Color  Top Pattern                                                \n",
      "black      OTHER          37      1       4       0      1        3   \n",
      "           animal          1      0       0       0      0        0   \n",
      "           cartoon         4      0       0       0      0        0   \n",
      "           chevron         1      0       0       0      0        0   \n",
      "           floral         31      1       5       0      1        3   \n",
      "...                      ...    ...     ...     ...    ...      ...   \n",
      "mediumblue skull           0      0       0       0      0        0   \n",
      "           squares         0      0       0       0      0        0   \n",
      "           stars           0      0       0       0      0        0   \n",
      "           stripes         0      0       0       0      0        0   \n",
      "           tribal          0      0       0       0      0        0   \n",
      "\n",
      "Bottom Color                                               ... mediumblue  \\\n",
      "Bottom Pattern         houndstooth ikat letter_numb plain  ...       ikat   \n",
      "Top Color  Top Pattern                                     ...              \n",
      "black      OTHER                 0    1           0    59  ...          0   \n",
      "           animal                0    0           0     2  ...          0   \n",
      "           cartoon               0    1           0     8  ...          0   \n",
      "           chevron               0    0           0     3  ...          0   \n",
      "           floral                0    1           0    58  ...          0   \n",
      "...                            ...  ...         ...   ...  ...        ...   \n",
      "mediumblue skull                 0    0           0     0  ...          0   \n",
      "           squares               0    0           0     0  ...          0   \n",
      "           stars                 0    0           0     0  ...          0   \n",
      "           stripes               0    0           0     0  ...          0   \n",
      "           tribal                0    0           0     0  ...          0   \n",
      "\n",
      "Bottom Color                                                                   \\\n",
      "Bottom Pattern         letter_numb plain polka dot scales skull squares stars   \n",
      "Top Color  Top Pattern                                                          \n",
      "black      OTHER                 0     0         0      0     0       0     0   \n",
      "           animal                0     0         0      0     0       0     0   \n",
      "           cartoon               0     0         0      0     0       0     0   \n",
      "           chevron               0     0         0      0     0       0     0   \n",
      "           floral                0     0         0      0     0       0     0   \n",
      "...                            ...   ...       ...    ...   ...     ...   ...   \n",
      "mediumblue skull                 0     0         0      0     0       0     0   \n",
      "           squares               0     0         0      0     0       0     0   \n",
      "           stars                 0     0         0      0     0       0     0   \n",
      "           stripes               0     0         0      0     0       0     0   \n",
      "           tribal                0     0         0      0     0       0     0   \n",
      "\n",
      "Bottom Color                           \n",
      "Bottom Pattern         stripes tribal  \n",
      "Top Color  Top Pattern                 \n",
      "black      OTHER             0      0  \n",
      "           animal            0      0  \n",
      "           cartoon           0      0  \n",
      "           chevron           0      0  \n",
      "           floral            0      0  \n",
      "...                        ...    ...  \n",
      "mediumblue skull             0      0  \n",
      "           squares           0      0  \n",
      "           stars             0      0  \n",
      "           stripes           0      0  \n",
      "           tribal            0      0  \n",
      "\n",
      "[1904 rows x 1904 columns]\n"
     ]
    }
   ],
   "source": [
    "with open(pairs_path) as f:\n",
    "    reader=csv.reader(f)\n",
    "    for row in reader:\n",
    "        tc=top_color[row[0]]\n",
    "        tp=top_pattern[row[0]]\n",
    "        bc=bottom_color[row[1]]\n",
    "        bp=bottom_pattern[row[1]]\n",
    "        compatibility_matrix.loc[(tc,tp),(bc,bp)]+=1\n",
    "print(compatibility_matrix)"
   ]
  },
  {
   "cell_type": "code",
   "execution_count": 57,
   "metadata": {},
   "outputs": [],
   "source": [
    "# Save the compatibility matrix to a CSV file\n",
    "compatibility_matrix.to_csv(\"compatibility_matrix.csv\")\n"
   ]
  }
 ],
 "metadata": {
  "kernelspec": {
   "display_name": "base",
   "language": "python",
   "name": "python3"
  },
  "language_info": {
   "codemirror_mode": {
    "name": "ipython",
    "version": 3
   },
   "file_extension": ".py",
   "mimetype": "text/x-python",
   "name": "python",
   "nbconvert_exporter": "python",
   "pygments_lexer": "ipython3",
   "version": "3.9.13"
  }
 },
 "nbformat": 4,
 "nbformat_minor": 2
}
